{
 "cells": [
  {
   "cell_type": "markdown",
   "id": "1971ead6",
   "metadata": {},
   "source": [
    "1. Given X be a discrete random variable with the following PMF\n",
    "image.png\n",
    "\n",
    "Find the range RX of the random variable X.\n",
    "Find P(X ≤ 0.5)\n",
    "Find P(0.25<X<0.75)\n",
    "P(X = 0.2|X<0.6)\n",
    " \n"
   ]
  },
  {
   "cell_type": "markdown",
   "id": "d2caaa72",
   "metadata": {},
   "source": [
    "2.Two equal and fair dice are rolled, and we observed two numbers X and Y.\n",
    "\n",
    "Find RX, RY, and the PMFs of X and Y.\n",
    "Find P(X = 2,Y = 6).\n",
    "Find P(X>3|Y = 2).\n",
    "If Z = X + Y. Find the range and PMF of Z.\n",
    "Find P(X = 4|Z = 8).\n",
    " \n"
   ]
  },
  {
   "cell_type": "markdown",
   "id": "69f4161a",
   "metadata": {},
   "source": [
    "3. In an exam, there were 20 multiple-choice questions. Each question had 44 possible options. A student knew the answer to 10 questions, but the other 10 questions were unknown to him, and he chose answers randomly. \n",
    "\n",
    "If the student X's score is equal to the total number of correct answers, then find out the PMF of X. What is P(X>15)?\n",
    " "
   ]
  },
  {
   "cell_type": "markdown",
   "id": "f08f38a0",
   "metadata": {},
   "source": [
    "4. The number of students arriving at a college between a time interval is a Poisson random variable.\n",
    "\n",
    "On average, 10 students arrive per hour. Let Y be the number of students arriving from 10 am to 11:30 am. What is P(10<Y≤15)?\n",
    " "
   ]
  },
  {
   "cell_type": "markdown",
   "id": "0b3ce275",
   "metadata": {},
   "source": [
    "5.Two independent random variables, X and Y,are given such that X~Poisson(α) and Y~Poisson(β). State a new random variable as Z = X + Y. Find out the PMF of Z.\n"
   ]
  },
  {
   "cell_type": "markdown",
   "id": "1ddc0018",
   "metadata": {},
   "source": [
    " \n",
    "6. There is a discrete random variable X with the pmf.\n",
    "image.png If we define a new random variable Y = (X + 1)2 then\n",
    "\n",
    "Find the range of Y.\n",
    "Find the pmf of Y.\n",
    "2.Assuming X is a continuous random variable with PDF\n",
    "image-2.png\n",
    "\n",
    "Find EX and Var(X).\n",
    "\n",
    "Find P(X ≥ 1/2).\n",
    "\n",
    "If X is a continuous random variable with pdf image-3.png\n",
    "\n",
    "If X~Uniform and Y = sin(X), then find fY(y).\n",
    "\n",
    "If X is a random variable with CDF image-4.png\n",
    "\n",
    "What kind of random variable is X: discrete, continuous, or mixed?\n",
    "\n",
    "Find the PDF of X, fX(x).\n",
    "\n",
    "Find E(eX).\n",
    "\n",
    "Find P(X = 0|X≤0.5).\n",
    "\n",
    " \n",
    "5. There are two random variables X and Y with joint PMF given in Table below\n",
    "Find P(X≤2, Y≤4).\n",
    "Find the marginal PMFs of X and Y.\n",
    "Find P(Y = 2|X = 1).\n",
    "Are X and Y independent?\n",
    "image.png\n",
    "\n",
    " \n",
    "6.A box containing 40 white shirts and 60 black shirts. If we choose 10 shirts (without replacement) at random, find the joint PMF of X and Y, where X is the number of white shirts and Y is the number of black shirts.\n",
    " \n"
   ]
  },
  {
   "cell_type": "markdown",
   "id": "242ae46b",
   "metadata": {},
   "source": [
    "7.If A and B are two jointly continuous random variables with joint PDF\n",
    "image.png\n",
    "\n",
    "Find fX(a) and fY(b).\n",
    "Are A and B independent of each other?\n",
    "Find the conditional PDF of A given B = b, fA|B(a|b).\n",
    "Find E[A|B = b], for 0 ≤ y ≤ 1.\n",
    "Find Var(A|B = b), for 0 ≤ y ≤ 1.\n",
    " \n"
   ]
  },
  {
   "cell_type": "markdown",
   "id": "2d3479cb",
   "metadata": {},
   "source": [
    "8.There are 100 men on a ship. If Xi is the ith man's weight on the ship and Xi's are independent and identically distributed and EXi = μ = 170 and σXi = σ = 30. Find the probability that the men's total weight on the ship exceeds 18,000.\n",
    " \n"
   ]
  },
  {
   "cell_type": "markdown",
   "id": "b59e8994",
   "metadata": {},
   "source": [
    "9.Let X1, X2, ……, X25 are independent and identically distributed. And have the following PMF.\n",
    "\n",
    "If Y = X1 + X2 + … + Xn, estimate P(4 ≤ Y ≤ 6) using central limit theorem."
   ]
  },
  {
   "cell_type": "code",
   "execution_count": null,
   "id": "df8564fa",
   "metadata": {},
   "outputs": [],
   "source": []
  }
 ],
 "metadata": {
  "kernelspec": {
   "display_name": "Python 3 (ipykernel)",
   "language": "python",
   "name": "python3"
  },
  "language_info": {
   "codemirror_mode": {
    "name": "ipython",
    "version": 3
   },
   "file_extension": ".py",
   "mimetype": "text/x-python",
   "name": "python",
   "nbconvert_exporter": "python",
   "pygments_lexer": "ipython3",
   "version": "3.9.13"
  }
 },
 "nbformat": 4,
 "nbformat_minor": 5
}
